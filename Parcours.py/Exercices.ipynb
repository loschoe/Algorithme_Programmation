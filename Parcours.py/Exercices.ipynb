{
 "cells": [
  {
   "cell_type": "markdown",
   "id": "b8bbbead",
   "metadata": {},
   "source": [
    "# Variables & affichage"
   ]
  },
  {
   "cell_type": "markdown",
   "id": "ad6cf33e",
   "metadata": {},
   "source": [
    "Exercice 1.1 : Déclarez une variable nom contenant votre prénom et une variable age contenant votre âge. Affichez-les à l'écran."
   ]
  },
  {
   "cell_type": "code",
   "execution_count": 4,
   "id": "fafd3fef",
   "metadata": {},
   "outputs": [
    {
     "name": "stdout",
     "output_type": "stream",
     "text": [
      "Louis 18\n"
     ]
    }
   ],
   "source": [
    "nom = \"Louis\"\n",
    "age = 18\n",
    "print(nom, age)"
   ]
  },
  {
   "cell_type": "markdown",
   "id": "318954a6",
   "metadata": {},
   "source": [
    "Exercice 1.2 : Déclarez trois variables a, b, et c avec des valeurs numériques. Calculez leur somme et affichez le résultat."
   ]
  },
  {
   "cell_type": "code",
   "execution_count": 5,
   "id": "fa6c2fb1",
   "metadata": {},
   "outputs": [
    {
     "name": "stdout",
     "output_type": "stream",
     "text": [
      "140\n",
      "140\n"
     ]
    }
   ],
   "source": [
    "a = 10\n",
    "b = 50 \n",
    "c = 80\n",
    "somme = a + b + c\n",
    "\n",
    "print(a + b + c)\n",
    "print(somme)"
   ]
  },
  {
   "cell_type": "markdown",
   "id": "df5162ec",
   "metadata": {},
   "source": [
    "Exercice 1.3 : Demandez à l'utilisateur de saisir son prénom et son nom, puis affichez-les en une seule ligne."
   ]
  },
  {
   "cell_type": "code",
   "execution_count": 7,
   "id": "b666c5b9",
   "metadata": {},
   "outputs": [
    {
     "name": "stdout",
     "output_type": "stream",
     "text": [
      "Bonjour Louis SCHOEPF\n"
     ]
    }
   ],
   "source": [
    "prenom = str(input(\"Ton prénom :\"))\n",
    "nom = str(input(\"Ton nom : \"))\n",
    "print(\"Bonjour\", prenom, nom)"
   ]
  },
  {
   "cell_type": "markdown",
   "id": "cf03a134",
   "metadata": {},
   "source": [
    "# Conversion de type"
   ]
  },
  {
   "cell_type": "markdown",
   "id": "bc568087",
   "metadata": {},
   "source": [
    "Exercice 2.1 : Demandez à l'utilisateur de saisir un nombre (string), convertissez-le en int, puis affichez son double."
   ]
  },
  {
   "cell_type": "code",
   "execution_count": 10,
   "id": "edd1265b",
   "metadata": {},
   "outputs": [
    {
     "name": "stdout",
     "output_type": "stream",
     "text": [
      "90\n"
     ]
    }
   ],
   "source": [
    "nb = int(input(\"Un nombre\")) \n",
    "nb *= 2\n",
    "print(nb)"
   ]
  },
  {
   "cell_type": "markdown",
   "id": "de6ee1fd",
   "metadata": {},
   "source": [
    "Exercice 2.2 : Demandez à l'utilisateur de saisir une température en Celsius, convertissez-la en Fahrenheit et affichez le résultat."
   ]
  },
  {
   "cell_type": "code",
   "execution_count": 13,
   "id": "fd2d83e0",
   "metadata": {},
   "outputs": [
    {
     "name": "stdout",
     "output_type": "stream",
     "text": [
      "113.0 °F\n"
     ]
    }
   ],
   "source": [
    "temp = float(input(\"Température °C : \"))\n",
    "temp = (temp * 9/5) + 32\n",
    "print(temp, \"°F\")"
   ]
  },
  {
   "cell_type": "markdown",
   "id": "509c0d91",
   "metadata": {},
   "source": [
    "Exercice 2.3 : Demandez à l'utilisateur son année de naissance et affichez son âge actuel."
   ]
  },
  {
   "cell_type": "code",
   "execution_count": 15,
   "id": "62031716",
   "metadata": {},
   "outputs": [
    {
     "name": "stdout",
     "output_type": "stream",
     "text": [
      "Vous avez 18 ans.\n"
     ]
    }
   ],
   "source": [
    "annee_naissance = int(input(\"Entrez votre année de naissance : \"))\n",
    "from datetime import datetime\n",
    "annee_actuelle = datetime.now().year\n",
    "age = annee_actuelle - annee_naissance\n",
    "print(\"Vous avez\", age, \"ans.\")"
   ]
  },
  {
   "cell_type": "markdown",
   "id": "814bba9c",
   "metadata": {},
   "source": [
    "Exercice 2.4 : Convertissez une valeur décimale saisie par l'utilisateur en un entier et affichez-la."
   ]
  },
  {
   "cell_type": "code",
   "execution_count": 16,
   "id": "27f0cd17",
   "metadata": {},
   "outputs": [
    {
     "name": "stdout",
     "output_type": "stream",
     "text": [
      "45\n"
     ]
    }
   ],
   "source": [
    "value = float(input(\"Valeur : \"))\n",
    "value = int(value)\n",
    "print(value)"
   ]
  },
  {
   "cell_type": "markdown",
   "id": "0113d7ed",
   "metadata": {},
   "source": [
    "Exercice 2.5 : Écrire un programme qui a deux variables a et b et qui échange leur valeur sans créer de nouvelle variable."
   ]
  },
  {
   "cell_type": "code",
   "execution_count": 17,
   "id": "43658de5",
   "metadata": {},
   "outputs": [],
   "source": [
    "a = 5\n",
    "b = 6\n",
    "a,b = b,a\n"
   ]
  },
  {
   "cell_type": "markdown",
   "id": "9d74cdb8",
   "metadata": {},
   "source": [
    "# Opération & Conditions"
   ]
  },
  {
   "cell_type": "markdown",
   "id": "83b938ee",
   "metadata": {},
   "source": [
    "Exercice 3.1 : Écrivez un programme qui demande à l'utilisateur deux nombres et affiche le plus grand des deux."
   ]
  },
  {
   "cell_type": "code",
   "execution_count": 1,
   "id": "06e6a610",
   "metadata": {},
   "outputs": [
    {
     "name": "stdout",
     "output_type": "stream",
     "text": [
      "78\n"
     ]
    }
   ],
   "source": [
    "nb1 = int(input(\"nb 1 : \"))\n",
    "nb2 = int(input(\"nb 2 : \"))\n",
    "if nb1 > nb2:\n",
    "    print(nb1)\n",
    "else: print(nb2)"
   ]
  },
  {
   "cell_type": "markdown",
   "id": "cf486145",
   "metadata": {},
   "source": [
    "Exercice 3.2 : Demandez à l'utilisateur un nombre et affichez s'il est pair ou impair."
   ]
  },
  {
   "cell_type": "code",
   "execution_count": 6,
   "id": "a8abd99a",
   "metadata": {},
   "outputs": [
    {
     "name": "stdout",
     "output_type": "stream",
     "text": [
      "Le nombre 40 est pair\n"
     ]
    }
   ],
   "source": [
    "nb = int(input())\n",
    "if nb % 2 == 0:\n",
    "    print(\"Le nombre\", nb, \"est pair\")\n",
    "else: print(\"impair\")"
   ]
  },
  {
   "cell_type": "markdown",
   "id": "456cc07a",
   "metadata": {},
   "source": [
    "Exercice 3.3 : Écrivez un programme qui demande un nombre à l'utilisateur et indique s'il est positif, négatif ou nul."
   ]
  },
  {
   "cell_type": "code",
   "execution_count": 8,
   "id": "8e81f8b1",
   "metadata": {},
   "outputs": [
    {
     "name": "stdout",
     "output_type": "stream",
     "text": [
      "-45 Negatif\n"
     ]
    }
   ],
   "source": [
    "nb = int(input())\n",
    "if nb < 0:\n",
    "    print(nb,\"Negatif\")\n",
    "else: print(\"Positif\")"
   ]
  },
  {
   "cell_type": "markdown",
   "id": "73058903",
   "metadata": {},
   "source": [
    "Exercice 3.4 : Implémentez un programme qui demande un score et affiche \"Excellent\", \"Bien\", \"Moyen\" ou \"Insuffisant\" selon des intervalles prédéfinis."
   ]
  },
  {
   "cell_type": "code",
   "execution_count": 9,
   "id": "14b350ae",
   "metadata": {},
   "outputs": [
    {
     "name": "stdout",
     "output_type": "stream",
     "text": [
      "Bien\n"
     ]
    }
   ],
   "source": [
    "score = int(input(\"Votre score sur 100 : \"))\n",
    "if score >= 80:\n",
    "    print(\"Excellent\")\n",
    "elif score >= 50:\n",
    "    print(\"Bien\")\n",
    "elif score >= 30:\n",
    "    print(\"Moyen\")\n",
    "else: print(\"Insufisant\")"
   ]
  },
  {
   "cell_type": "markdown",
   "id": "e92dc38b",
   "metadata": {},
   "source": [
    "Exercice 3.5 : Écrire un programme qui transforme un nombre de secondes en un ensemble heure-minute-secondes. Exemple : 3666 secondes = 1h, 1 minute et 6 secondes."
   ]
  },
  {
   "cell_type": "code",
   "execution_count": 10,
   "id": "a504101c",
   "metadata": {},
   "outputs": [
    {
     "name": "stdout",
     "output_type": "stream",
     "text": [
      "126 heure(s), 56 minute(s), 27 seconde(s)\n"
     ]
    }
   ],
   "source": [
    "secondes = int(input(\"Entrez le nombre de secondes : \"))\n",
    "\n",
    "heures = secondes // 3600\n",
    "reste = secondes % 3600\n",
    "minutes = reste // 60\n",
    "secondes_restantes = reste % 60\n",
    "\n",
    "print(f\"{heures} heure(s), {minutes} minute(s), {secondes_restantes} seconde(s)\")"
   ]
  },
  {
   "cell_type": "markdown",
   "id": "f350ba1f",
   "metadata": {},
   "source": [
    "# Boucles (for, while)"
   ]
  },
  {
   "cell_type": "markdown",
   "id": "bc968060",
   "metadata": {},
   "source": [
    "Exercice 4.1 : Affichez les nombres de 1 à 10 en utilisant une boucle for."
   ]
  },
  {
   "cell_type": "code",
   "execution_count": 13,
   "id": "7557594e",
   "metadata": {},
   "outputs": [
    {
     "name": "stdout",
     "output_type": "stream",
     "text": [
      "0\n",
      "1\n",
      "2\n",
      "3\n",
      "4\n",
      "5\n",
      "6\n",
      "7\n",
      "8\n",
      "9\n",
      "10\n"
     ]
    }
   ],
   "source": [
    "i = 1\n",
    "for i in range(11):\n",
    "    print(i)"
   ]
  },
  {
   "cell_type": "markdown",
   "id": "61d94f25",
   "metadata": {},
   "source": [
    "Exercice 4.2 : Affichez les nombres pairs de 2 à 20 avec une boucle while."
   ]
  },
  {
   "cell_type": "code",
   "execution_count": 1,
   "id": "99bb4c65",
   "metadata": {},
   "outputs": [
    {
     "name": "stdout",
     "output_type": "stream",
     "text": [
      "2\n",
      "4\n",
      "6\n",
      "8\n",
      "10\n",
      "12\n",
      "14\n",
      "16\n",
      "18\n",
      "20\n"
     ]
    }
   ],
   "source": [
    "y = 0\n",
    "x = 2\n",
    "for y in range(10):\n",
    "    print(x)\n",
    "    x += 2\n"
   ]
  },
  {
   "cell_type": "markdown",
   "id": "10be0031",
   "metadata": {},
   "source": [
    "Exercice 4.3 : Écrivez un programme qui demande un nombre n à l'utilisateur et affiche la somme des n premiers entiers naturels."
   ]
  },
  {
   "cell_type": "code",
   "execution_count": 27,
   "id": "de46a499",
   "metadata": {},
   "outputs": [
    {
     "name": "stdout",
     "output_type": "stream",
     "text": [
      "La somme des 10 premiers entiers naturels est : 55\n"
     ]
    }
   ],
   "source": [
    "n = int(input(\"Entrez un nombre entier positif : \"))\n",
    "\n",
    "somme = n * (n + 1) // 2\n",
    "\n",
    "print(f\"La somme des {n} premiers entiers naturels est : {somme}\")"
   ]
  },
  {
   "cell_type": "markdown",
   "id": "1b509948",
   "metadata": {},
   "source": [
    "Exercice 4.4 : Écrivez un programme qui affiche la table de multiplication de 7 jusqu'à 10."
   ]
  },
  {
   "cell_type": "code",
   "execution_count": 31,
   "id": "29870b36",
   "metadata": {},
   "outputs": [
    {
     "name": "stdout",
     "output_type": "stream",
     "text": [
      "7 x 0 = 0\n",
      "7 x 1 = 7\n",
      "7 x 2 = 14\n",
      "7 x 3 = 21\n",
      "7 x 4 = 28\n",
      "7 x 5 = 35\n",
      "7 x 6 = 42\n",
      "7 x 7 = 49\n",
      "7 x 8 = 56\n",
      "7 x 9 = 63\n",
      "7 x 10 = 70\n"
     ]
    }
   ],
   "source": [
    "value = 0\n",
    "result = 0 \n",
    "for i in range(11):\n",
    "    result = value*7\n",
    "    print(\"7 x\",value, \"=\", result)\n",
    "    value+= 1\n"
   ]
  },
  {
   "cell_type": "markdown",
   "id": "d3e13ea1",
   "metadata": {},
   "source": [
    "Exercice 4.5 : Écrire un programme qui vérifie si deux nombres ont un diviseur en commun."
   ]
  },
  {
   "cell_type": "code",
   "execution_count": 32,
   "id": "dcb39016",
   "metadata": {},
   "outputs": [
    {
     "name": "stdout",
     "output_type": "stream",
     "text": [
      "Les deux nombres ont au moins un diviseur commun.\n"
     ]
    }
   ],
   "source": [
    "a = int(input(\"Entrez le premier nombre : \"))\n",
    "b = int(input(\"Entrez le deuxième nombre : \"))\n",
    "\n",
    "def ont_diviseur_commun(x, y):\n",
    "    for i in range(2, min(x, y) + 1):\n",
    "        if x % i == 0 and y % i == 0:\n",
    "            return True\n",
    "    return False\n",
    "\n",
    "if ont_diviseur_commun(a, b):\n",
    "    print(\"Les deux nombres ont au moins un diviseur commun.\")\n",
    "else:\n",
    "    print(\"Les deux nombres n'ont pas de diviseur commun (sont premiers entre eux).\")"
   ]
  },
  {
   "cell_type": "markdown",
   "id": "8ce77c65",
   "metadata": {},
   "source": [
    "Exercice 4.6 : Jeu du « plus ou moins » : écrire un programme qui génère un nombre aléatoire en 1 et 100 et qui demande à l’utilisateur de le deviner. Si l’utilisateur a faux l’ordinateur répond « plus grand » ou « plus petit »."
   ]
  },
  {
   "cell_type": "code",
   "execution_count": null,
   "id": "bb47916b",
   "metadata": {},
   "outputs": [
    {
     "name": "stdout",
     "output_type": "stream",
     "text": [
      "55\n",
      "Bravo ! vous avez trouver en 1 coups\n"
     ]
    }
   ],
   "source": [
    "import random\n",
    "nombre = random.randint(1, 100)\n",
    "# print(nombre) C'était pour tester !!\n",
    "compteur = 0\n",
    "while True:\n",
    "    tentative = int(input(\"Devinez le nombre aléaoire : \"))\n",
    "    if tentative > nombre:\n",
    "        print(\"C'est moins\")\n",
    "        compteur += 1\n",
    "    elif tentative < nombre:\n",
    "        print(\"C'est plus\")\n",
    "        compteur += 1\n",
    "    elif tentative == nombre:\n",
    "        compteur += 1\n",
    "        print(\"Bravo ! vous avez trouver en\", compteur, \"coups\")\n",
    "        break\n"
   ]
  },
  {
   "cell_type": "markdown",
   "id": "b9e1a117",
   "metadata": {},
   "source": [
    "# Gestion des chaînes de caractères "
   ]
  },
  {
   "cell_type": "markdown",
   "id": "d1611b32",
   "metadata": {},
   "source": [
    "Exercice 5.1 : Demandez à l'utilisateur son nom et affichez-le en majuscules."
   ]
  },
  {
   "cell_type": "code",
   "execution_count": 8,
   "id": "816e030c",
   "metadata": {},
   "outputs": [
    {
     "name": "stdout",
     "output_type": "stream",
     "text": [
      "TEST"
     ]
    }
   ],
   "source": [
    "name = input(\"Votre nom : \")\n",
    "\n",
    "for i in name:\n",
    "    if 'a' <= i <= 'z':\n",
    "        maj = chr(ord(i) - 32)\n",
    "    else:\n",
    "        maj = i \n",
    "    print(maj, end=\"\")"
   ]
  },
  {
   "cell_type": "markdown",
   "id": "ffed5b02",
   "metadata": {},
   "source": [
    "Exercice 5.2 : Demandez une phrase à l'utilisateur et affichez son nombre de caractères."
   ]
  },
  {
   "cell_type": "code",
   "execution_count": 9,
   "id": "15410a98",
   "metadata": {},
   "outputs": [
    {
     "name": "stdout",
     "output_type": "stream",
     "text": [
      "Le nombre de caractères dans Louis est malin est égal à : 15\n"
     ]
    }
   ],
   "source": [
    "phrase = str(input())\n",
    "x = 0\n",
    "for i in phrase:\n",
    "    x += 1\n",
    "print(\"Le nombre de caractères dans\", phrase, \"est égal à :\", x)"
   ]
  },
  {
   "cell_type": "markdown",
   "id": "88de392a",
   "metadata": {},
   "source": [
    "Exercice 5.3 : Vérifiez si une chaîne de caractères saisie par l'utilisateur est un palindrome"
   ]
  },
  {
   "cell_type": "code",
   "execution_count": 13,
   "id": "e5428aef",
   "metadata": {},
   "outputs": [
    {
     "name": "stdout",
     "output_type": "stream",
     "text": [
      "kayak C'est un palindrome.\n"
     ]
    }
   ],
   "source": [
    "texte = input(\"Entrez une chaîne de caractères : \")\n",
    "\n",
    "\n",
    "nettoye = texte.replace(\" \", \"\").lower()\n",
    "\n",
    "if nettoye == nettoye[::-1]:\n",
    "    print(texte, \"C'est un palindrome.\")\n",
    "else:\n",
    "    print(texte ,\"Ce n'est pas un palindrome.\")"
   ]
  },
  {
   "cell_type": "markdown",
   "id": "37145acc",
   "metadata": {},
   "source": [
    "Exercice 5.4 : Remplacez toutes les voyelles d'une phrase saisie par l'utilisateur par des étoiles."
   ]
  },
  {
   "cell_type": "code",
   "execution_count": 19,
   "id": "62a32ab4",
   "metadata": {},
   "outputs": [
    {
     "name": "stdout",
     "output_type": "stream",
     "text": [
      "Analyse --> An*l*s*\n"
     ]
    }
   ],
   "source": [
    "# a e i o u y \n",
    "s = str(input())\n",
    "result = \"\"\n",
    "for i in s:\n",
    "    if i == 'a' or i == \"e\" or i == \"i\" or i == \"o\" or i == \"u\" or i == \"y\":\n",
    "        result += '*'\n",
    "    else: result += i\n",
    "print(s,\"-->\",result )"
   ]
  },
  {
   "cell_type": "markdown",
   "id": "3415bd2e",
   "metadata": {},
   "source": [
    "Exercice 5.5 : Cryptographie : chiffre de César. Ecrire un programme qui remplace chaque lettre d’un texte par la lettre placée 3 places plus loin dans l’alphabet, et inversement, pour crypter et décrypter un message."
   ]
  },
  {
   "cell_type": "code",
   "execution_count": 20,
   "id": "0555c50b",
   "metadata": {},
   "outputs": [
    {
     "name": "stdout",
     "output_type": "stream",
     "text": [
      "Texte crypté : Erqmrxu, mh vxlv udyl gh idluh gx sbwkrq\n"
     ]
    }
   ],
   "source": [
    "def cesar(text, decalage):\n",
    "    resultat = \"\"\n",
    "    for caractere in text:\n",
    "        if caractere.isalpha():\n",
    "            base = ord('A') if caractere.isupper() else ord('a')\n",
    "            resultat += chr((ord(caractere) - base + decalage) % 26 + base)\n",
    "        else:\n",
    "            resultat += caractere\n",
    "    return resultat\n",
    "\n",
    "texte = input(\"Entrez un texte : \")\n",
    "action = input(\"Voulez-vous crypter (c) ou décrypter (d) ? \")\n",
    "\n",
    "if action.lower() == 'c':\n",
    "    print(\"Texte crypté :\", cesar(texte, 3))\n",
    "elif action.lower() == 'd':\n",
    "    print(\"Texte décrypté :\", cesar(texte, -3))\n",
    "else:\n",
    "    print(\"Action non réalisable.\")"
   ]
  },
  {
   "cell_type": "markdown",
   "id": "7f26b28b",
   "metadata": {},
   "source": [
    "# Tableaux & Listes"
   ]
  },
  {
   "cell_type": "markdown",
   "id": "8df7f53f",
   "metadata": {},
   "source": [
    "Exercice 6.1 : Déclarez un tableau contenant 5 nombres et affichez-les à l'écran."
   ]
  },
  {
   "cell_type": "code",
   "execution_count": 22,
   "id": "3fcfe353",
   "metadata": {},
   "outputs": [
    {
     "name": "stdout",
     "output_type": "stream",
     "text": [
      "[1, 3, 4, 6, 8, 1000]\n"
     ]
    }
   ],
   "source": [
    "tab = [1 , 3 , 4 , 6 , 8 , 1000]\n",
    "print(tab)"
   ]
  },
  {
   "cell_type": "markdown",
   "id": "e6e06c4d",
   "metadata": {},
   "source": [
    "Exercice 6.2 : Demandez 5 nombres à l'utilisateur, stockez-les dans un tableau, puis affichez leur somme."
   ]
  },
  {
   "cell_type": "code",
   "execution_count": 23,
   "id": "4a24a6be",
   "metadata": {},
   "outputs": [
    {
     "name": "stdout",
     "output_type": "stream",
     "text": [
      "[45, 78, 65, 35, 15]\n",
      "238\n"
     ]
    }
   ],
   "source": [
    "tab = []\n",
    "somme = 0\n",
    "for i in range(5):\n",
    "    x = int(input(\"Entrez un nombre : \"))\n",
    "    tab.append(x)\n",
    "    somme += x\n",
    "print(tab) \n",
    "print(somme)"
   ]
  },
  {
   "cell_type": "markdown",
   "id": "89fd5c68",
   "metadata": {},
   "source": [
    "Exercice 6.3 : Déclarez une liste de prénoms et ajoutez un prénom saisi par l'utilisateur."
   ]
  },
  {
   "cell_type": "code",
   "execution_count": 24,
   "id": "eff7bbf7",
   "metadata": {},
   "outputs": [
    {
     "name": "stdout",
     "output_type": "stream",
     "text": [
      "['Lucas', 'Paul', 'Jean-Louis']\n",
      "['Lucas', 'Paul', 'Jean-Louis', 'Marie']\n"
     ]
    }
   ],
   "source": [
    "prenoms = [\"Lucas\", \"Paul\", \"Jean-Louis\"]\n",
    "print(prenoms)\n",
    "nom_user = str(input(\"Quel est ton nom : \"))\n",
    "prenoms.append(nom_user)\n",
    "print(prenoms)\n"
   ]
  },
  {
   "cell_type": "markdown",
   "id": "df43dde8",
   "metadata": {},
   "source": [
    "Exercice 6.4 : Écrire un programme qui compte dans une liste le nombre de fois qu’un élément est présent."
   ]
  },
  {
   "cell_type": "code",
   "execution_count": 30,
   "id": "1f3fed91",
   "metadata": {},
   "outputs": [
    {
     "name": "stdout",
     "output_type": "stream",
     "text": [
      "L'élément 3 apparaît 2 fois dans la liste.\n"
     ]
    }
   ],
   "source": [
    "liste = (3, 7, 7, 2, 9, 3)\n",
    "element = int(input(\"Entrez l'élément à rechercher : \"))\n",
    "\n",
    "compteur = liste.count(element)\n",
    "\n",
    "print(f\"L'élément {element} apparaît {compteur} fois dans la liste.\")"
   ]
  },
  {
   "cell_type": "markdown",
   "id": "2472387b",
   "metadata": {},
   "source": [
    "Exercice 6.5 : Écrivez un programme qui recherche un élément dans un tableau et affiche s'il est présent."
   ]
  },
  {
   "cell_type": "code",
   "execution_count": 31,
   "id": "5c529470",
   "metadata": {},
   "outputs": [
    {
     "name": "stdout",
     "output_type": "stream",
     "text": [
      "L'élément 7 apparaît 2 fois dans la liste.\n"
     ]
    }
   ],
   "source": [
    "tableau = [3, 7, 7, 2, 9, 3]\n",
    "element = int(input(\"Entrez l'élément à rechercher : \"))\n",
    "\n",
    "compteur = tableau.count(element)\n",
    "\n",
    "print(f\"L'élément {element} apparaît {compteur} fois dans la liste.\")"
   ]
  },
  {
   "cell_type": "markdown",
   "id": "66fb7c9e",
   "metadata": {},
   "source": [
    "Exercice 6.6 : Trier un tableau de 5 nombres entrés par l'utilisateur en ordre croissant."
   ]
  },
  {
   "cell_type": "code",
   "execution_count": 32,
   "id": "8858f065",
   "metadata": {},
   "outputs": [
    {
     "name": "stdout",
     "output_type": "stream",
     "text": [
      "[32, 45, 62, 74, 78]\n"
     ]
    }
   ],
   "source": [
    "tab = []\n",
    "for i in range(5):\n",
    "    x = int(input(\"Nombre : \"))\n",
    "    tab.append(x)\n",
    "    tab.sort()\n",
    "print(tab)\n"
   ]
  },
  {
   "cell_type": "markdown",
   "id": "2ee9549a",
   "metadata": {},
   "source": [
    "Exercice 6.7 : Écrire un programme qui recherche le plus petit élément dans une liste."
   ]
  },
  {
   "cell_type": "code",
   "execution_count": 36,
   "id": "03a9725e",
   "metadata": {},
   "outputs": [
    {
     "name": "stdout",
     "output_type": "stream",
     "text": [
      "[45, 75, 12, 63, 78] Le plus petit nombre est : 12\n"
     ]
    }
   ],
   "source": [
    "liste = []\n",
    "\n",
    "for i in range(5):\n",
    "    x = int(input(\"Nombre : \"))\n",
    "    liste.append(x)\n",
    "\n",
    "min_list = min(liste)\n",
    "\n",
    "print(liste, \"Le plus petit nombre est :\", min_list)"
   ]
  },
  {
   "cell_type": "markdown",
   "id": "fbf6a9ba",
   "metadata": {},
   "source": [
    "Exercice 6.8 : Écrire un programme qui extrait les nombres communs entre deux listes et les stocke dans une troisième liste."
   ]
  },
  {
   "cell_type": "code",
   "execution_count": 40,
   "id": "4caf703e",
   "metadata": {},
   "outputs": [
    {
     "name": "stdout",
     "output_type": "stream",
     "text": [
      "[4, 67, 128, 12, 19, 39, 58, 42, 71, 21]\n",
      "[4, 68, 127, 19, 12, 38, 39, 43, 67, 20]\n",
      "[4, 67, 12, 19, 39]\n"
     ]
    }
   ],
   "source": [
    "L1 = [4, 67, 128, 12, 19, 39, 58, 42, 71, 21]\n",
    "L2 = [4, 68, 127, 19, 12, 38, 39, 43, 67, 20] \n",
    "L3 = []\n",
    "\n",
    "for i in L1:\n",
    "    if i in L2:\n",
    "        if i not in L3:\n",
    "            L3.append(i)\n",
    "        else:pass\n",
    "print(L1)\n",
    "print(L2)\n",
    "print(L3)"
   ]
  },
  {
   "cell_type": "markdown",
   "id": "ff038440",
   "metadata": {},
   "source": [
    "### Fonctions sans arguments & sans retour "
   ]
  },
  {
   "cell_type": "markdown",
   "id": "5dba43b0",
   "metadata": {},
   "source": [
    "Exercice 7.1 : Écrivez une fonction AfficherBonjour() qui affiche \"Bonjour, bienvenue !\" et appelez-la depuis Main()."
   ]
  },
  {
   "cell_type": "code",
   "execution_count": null,
   "id": "c98cf5d3",
   "metadata": {},
   "outputs": [],
   "source": [
    "def AfficherBonjour():\n",
    "    print(\"Bonjour, bienvenue !\")"
   ]
  },
  {
   "cell_type": "markdown",
   "id": "8662fa0d",
   "metadata": {},
   "source": [
    "Exercice 7.2 : Écrivez une fonction AfficherTableMultiplication() qui affiche la table de multiplication de 5."
   ]
  },
  {
   "cell_type": "code",
   "execution_count": 53,
   "id": "499eaf72",
   "metadata": {},
   "outputs": [],
   "source": [
    "def AfficherTableMultiplication():\n",
    "    for i in range(11):\n",
    "        result = i * 5\n",
    "        print(\"5 x\", i, \"=\", result)"
   ]
  },
  {
   "cell_type": "markdown",
   "id": "e28bc765",
   "metadata": {},
   "source": [
    "Exercice 7.3 : Implémentez une fonction AfficherDate() qui affiche la date actuelle."
   ]
  },
  {
   "cell_type": "code",
   "execution_count": 55,
   "id": "b0ae65ce",
   "metadata": {},
   "outputs": [],
   "source": [
    "from datetime import datetime\n",
    "\n",
    "def AfficherDate():\n",
    "    date_actuelle = datetime.now()\n",
    "    print(\"Date actuelle :\", date_actuelle.strftime(\"%d/%m/%Y\"))"
   ]
  },
  {
   "cell_type": "markdown",
   "id": "177e62ba",
   "metadata": {},
   "source": [
    "Exercice 7.4 : Implémentez une fonction AfficherMotDePasse() qui génère et affiche un mot de passe aléatoire de 8 caractères."
   ]
  },
  {
   "cell_type": "code",
   "execution_count": 61,
   "id": "9d8765ab",
   "metadata": {},
   "outputs": [],
   "source": [
    "import random\n",
    "import string\n",
    "\n",
    "def AfficherMotDePasse():\n",
    "    char = string.ascii_letters + string.digits\n",
    "    return ''.join(random.choice(char) for _ in range(8))"
   ]
  },
  {
   "cell_type": "markdown",
   "id": "75840d75",
   "metadata": {},
   "source": [
    "La fonction main de tous les exos :"
   ]
  },
  {
   "cell_type": "code",
   "execution_count": 66,
   "id": "41cc6064",
   "metadata": {},
   "outputs": [],
   "source": [
    "def main():\n",
    "    AfficherBonjour()\n",
    "    AfficherTableMultiplication()\n",
    "    AfficherDate()\n",
    "    print(\"Mot de passe :\",AfficherMotDePasse())"
   ]
  },
  {
   "cell_type": "markdown",
   "id": "6b6e5433",
   "metadata": {},
   "source": [
    "Le resulat : "
   ]
  },
  {
   "cell_type": "code",
   "execution_count": 67,
   "id": "9dc1359a",
   "metadata": {},
   "outputs": [
    {
     "name": "stdout",
     "output_type": "stream",
     "text": [
      "Bonjour, bienvenue !\n",
      "5 x 0 = 0\n",
      "5 x 1 = 5\n",
      "5 x 2 = 10\n",
      "5 x 3 = 15\n",
      "5 x 4 = 20\n",
      "5 x 5 = 25\n",
      "5 x 6 = 30\n",
      "5 x 7 = 35\n",
      "5 x 8 = 40\n",
      "5 x 9 = 45\n",
      "5 x 10 = 50\n",
      "Date actuelle : 29/09/2025\n",
      "Mot de passe : EHLbjVVj\n"
     ]
    }
   ],
   "source": [
    "main()"
   ]
  },
  {
   "cell_type": "markdown",
   "id": "c41e0194",
   "metadata": {},
   "source": [
    "### Fonctions avec arguments et retour"
   ]
  },
  {
   "cell_type": "markdown",
   "id": "406c7a33",
   "metadata": {},
   "source": [
    "Exercice 8.1 : Écrivez une fonction Somme(int a, int b) qui retourne la somme de a et b."
   ]
  },
  {
   "cell_type": "code",
   "execution_count": 69,
   "id": "5a964d16",
   "metadata": {},
   "outputs": [],
   "source": [
    "def Somme(a, b):\n",
    "    return a + b"
   ]
  },
  {
   "cell_type": "markdown",
   "id": "2bea1de9",
   "metadata": {},
   "source": [
    "Exercice 8.2 : Écrivez une fonction EstPair(int n) qui retourne true si n est pair et false sinon."
   ]
  },
  {
   "cell_type": "code",
   "execution_count": 72,
   "id": "92c8c665",
   "metadata": {},
   "outputs": [],
   "source": [
    "def EstPair(n):\n",
    "    if n % 2 == 0:\n",
    "        return True \n",
    "    else: return False "
   ]
  },
  {
   "cell_type": "markdown",
   "id": "586641b8",
   "metadata": {},
   "source": [
    "Exercice 8.3 : Écrivez une fonction Factorielle(int n) qui calcule la factorielle d'un nombre."
   ]
  },
  {
   "cell_type": "code",
   "execution_count": 73,
   "id": "bbbaa2ae",
   "metadata": {},
   "outputs": [],
   "source": [
    "def Factorielle(n):\n",
    "    if n < 0:\n",
    "        raise ValueError(\"La factorielle n'est pas définie pour les entiers négatifs.\")\n",
    "    resultat = 1\n",
    "    for i in range(2, n + 1):\n",
    "        resultat *= i\n",
    "    return resultat"
   ]
  },
  {
   "cell_type": "markdown",
   "id": "ae5cfd15",
   "metadata": {},
   "source": [
    "Exercice 8.4 : Implémentez une fonction qui retourne le maximum entre trois nombres donnés en paramètre."
   ]
  },
  {
   "cell_type": "code",
   "execution_count": 74,
   "id": "05f80b97",
   "metadata": {},
   "outputs": [],
   "source": [
    "def Max(a,b,c) :\n",
    "    if a >= b and a >= c :\n",
    "        return a\n",
    "    elif b >= a and b >= c :\n",
    "        return b\n",
    "    else :\n",
    "        return c"
   ]
  },
  {
   "cell_type": "markdown",
   "id": "75e2285d",
   "metadata": {},
   "source": [
    "Exercice 8.5 : Écrivez une fonction qui vérifie si un mot donné contient une lettre spécifique."
   ]
  },
  {
   "cell_type": "code",
   "execution_count": 78,
   "id": "d1702e02",
   "metadata": {},
   "outputs": [
    {
     "name": "stdout",
     "output_type": "stream",
     "text": [
      "4\n"
     ]
    }
   ],
   "source": [
    "phrase = \"Bonjour et bienvenue dans Python\"\n",
    "\n",
    "def Verify(texte):\n",
    "    count = 0\n",
    "    for ch in texte:\n",
    "        if ch == 'e':\n",
    "            count += 1\n",
    "    print(count)\n",
    "\n",
    "Verify(phrase)"
   ]
  },
  {
   "cell_type": "markdown",
   "id": "e8a00b6b",
   "metadata": {},
   "source": [
    "# Récursivité"
   ]
  },
  {
   "cell_type": "markdown",
   "id": "87e363b9",
   "metadata": {},
   "source": [
    "Exercice 9.1 : Implémentez une fonction récursive pour calculer la somme des n premiers nombres naturels."
   ]
  },
  {
   "cell_type": "code",
   "execution_count": null,
   "id": "a3c38888",
   "metadata": {},
   "outputs": [],
   "source": [
    "def est_premier(n, d=2):\n",
    "    if n < 2:\n",
    "        return False\n",
    "    if d * d > n:\n",
    "        return True\n",
    "    if n % d == 0:\n",
    "        return False\n",
    "    return est_premier(n, d + 1)\n",
    "\n",
    "def somme_premiers(n, courant=2, compte=0):\n",
    "    if compte == n:\n",
    "        return 0\n",
    "    if est_premier(courant):\n",
    "        return courant + somme_premiers(n, courant + 1, compte + 1)\n",
    "    return somme_premiers(n, courant + 1, compte)"
   ]
  },
  {
   "cell_type": "markdown",
   "id": "bac13193",
   "metadata": {},
   "source": [
    "Exercice 9.2 : Implémenter une fonction récursive pour calculer la factorielle d'un nombre "
   ]
  },
  {
   "cell_type": "code",
   "execution_count": null,
   "id": "715f7afa",
   "metadata": {},
   "outputs": [],
   "source": [
    "def factorielle(n):\n",
    "    if n == 0:\n",
    "        return 1\n",
    "    return n * factorielle(n - 1)"
   ]
  },
  {
   "cell_type": "markdown",
   "id": "89fa6be5",
   "metadata": {},
   "source": [
    "Exercice 9.3 : Implémenter une fonction récursive qui retourne le n-ième élément terme de la suite de Fibonacci"
   ]
  },
  {
   "cell_type": "code",
   "execution_count": null,
   "id": "9770377f",
   "metadata": {},
   "outputs": [],
   "source": [
    "def fibonacci(n):\n",
    "    if n <= 1:\n",
    "        return n\n",
    "    return fibonacci(n - 1) + fibonacci(n - 2)"
   ]
  },
  {
   "cell_type": "markdown",
   "id": "c8b208ed",
   "metadata": {},
   "source": [
    "Exercice 9.4 : Ecrivez une fonction récursive qui calcule la puissance x^y d'un nombre entier x"
   ]
  },
  {
   "cell_type": "code",
   "execution_count": null,
   "id": "4042f448",
   "metadata": {},
   "outputs": [],
   "source": [
    "def puissance(x, y):\n",
    "    if y == 0:\n",
    "        return 1\n",
    "    return x * puissance(x, y - 1)"
   ]
  },
  {
   "cell_type": "markdown",
   "id": "69de9dfb",
   "metadata": {},
   "source": [
    "Exercice 9.5 : Implémenter une fonction récursive qui inverse une chaine de caractères"
   ]
  },
  {
   "cell_type": "code",
   "execution_count": null,
   "id": "0dabfd57",
   "metadata": {},
   "outputs": [],
   "source": [
    "def inverser_chaine(s):\n",
    "    if s == \"\":\n",
    "        return \"\"\n",
    "    return inverser_chaine(s[1:]) + s[0]"
   ]
  },
  {
   "cell_type": "markdown",
   "id": "50617a48",
   "metadata": {},
   "source": [
    "### Projets :\n",
    "* Calculateur de points au Scrabble\n",
    "* Programmer un jeu du pendu.\n",
    "* Programmer un jeu de Mastermind\n",
    "* Programmer un jeu de Morpion "
   ]
  }
 ],
 "metadata": {
  "kernelspec": {
   "display_name": "Python 3",
   "language": "python",
   "name": "python3"
  },
  "language_info": {
   "codemirror_mode": {
    "name": "ipython",
    "version": 3
   },
   "file_extension": ".py",
   "mimetype": "text/x-python",
   "name": "python",
   "nbconvert_exporter": "python",
   "pygments_lexer": "ipython3",
   "version": "3.11.9"
  }
 },
 "nbformat": 4,
 "nbformat_minor": 5
}
